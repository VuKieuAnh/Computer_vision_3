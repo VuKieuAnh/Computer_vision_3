{
 "cells": [
  {
   "cell_type": "code",
   "execution_count": null,
   "id": "76eb1342",
   "metadata": {},
   "outputs": [],
   "source": [
    "import cv2 as cv\n",
    "import math\n",
    "import numpy as np\n",
    "from PIL import Image, ImageFilter"
   ]
  },
  {
   "cell_type": "code",
   "execution_count": null,
   "id": "baae823e",
   "metadata": {},
   "outputs": [],
   "source": [
    "def erode(im,se):\n",
    "    rows = im.shape[0]\n",
    "    columns = im.shape[1]\n",
    "    #Initialize counters (Just to keep track)\n",
    "    fit = 0\n",
    "    hit = 0\n",
    "    miss = 0\n",
    "\n",
    "    #Create a copy of the image to modified it´s pixel values\n",
    "    ero = np.copy(im)\n",
    "    #Specify kernel size (w*w)\n",
    "    w = 3\n",
    "\n",
    "    #\n",
    "    for i in range(rows-w-1):\n",
    "        for j in range(columns-w-1):\n",
    "            #Get a region (crop) of the image equal to kernel size\n",
    "            crop = im[i:w+i,j:w+j]\n",
    "            #Convert region of image to an array\n",
    "            img = np.array(crop)\n",
    "\n",
    "            #Get center\n",
    "            a = math.floor(w/2)\n",
    "            b = math.floor(w/2)\n",
    "            \n",
    "            #Initialize counters \n",
    "            matches = 0\n",
    "            blacks = 0\n",
    "\n",
    "            #Count number of black pixels (0) and value matches between the two matrix\n",
    "            for x in range(w):\n",
    "                for y in range(w):\n",
    "                    #Count number of black pixels (0)\n",
    "                    if(img[x][y] == 0):\n",
    "                        blacks = blacks+1\n",
    "                        #Count number of matching pixel values between the two matrix   \n",
    "                        if (img[x][y] == se[x][y]):         \n",
    "                            matches = matches+1\n",
    "\n",
    "            #Test if structuring element fit crop image pixels\n",
    "            #If fit it does nothing because center pixel is already black\n",
    "            if(matches > 0):\n",
    "                if(matches == blacks):\n",
    "                    #Touch\n",
    "                    fit = fit + 1\n",
    "                    pass\n",
    "                #Test if structuring element hit crop image pixels\n",
    "                #If hit change ero center pixel to black\n",
    "                elif(matches < blacks):\n",
    "                    #Hit\n",
    "                    hit = hit+1\n",
    "                    ##PROBABLE ERROR IN HERE##\n",
    "                    ero[a][b] = 0\n",
    "            #If no pixel match just pass\n",
    "            else:\n",
    "                #Miss\n",
    "                miss=miss+1\n",
    "                pass\n",
    "\n",
    "    #Print the number of fits, hits, and misses\n",
    "    print(str(fit) + '\\n' + str(hit) + '\\n' + str(miss))\n",
    "\n",
    "    #Show original gray image and eroded image\n",
    "    plt.subplot(1, 2, 1)\n",
    "    plt.imshow(img, cmap='gray')  \n",
    "    plt.subplot(1, 2, 2)\n",
    "    plt.imshow(ero, cmap='gray')  \n"
   ]
  },
  {
   "cell_type": "code",
   "execution_count": null,
   "id": "fc3ce703",
   "metadata": {},
   "outputs": [],
   "source": [
    "path=\"./anhdemo/trungvi.png\"\n",
    "img = cv.imread(path,0)\n",
    "se = [[0,1,0],\n",
    "          [1,1,1],\n",
    "          [0,1,0]]\n",
    "#Call morphological operation function\n",
    "erode(img,se)"
   ]
  },
  {
   "cell_type": "code",
   "execution_count": null,
   "id": "35003281",
   "metadata": {},
   "outputs": [],
   "source": []
  },
  {
   "cell_type": "code",
   "execution_count": null,
   "id": "5a8e5cda",
   "metadata": {},
   "outputs": [],
   "source": []
  },
  {
   "cell_type": "code",
   "execution_count": null,
   "id": "7537df62",
   "metadata": {},
   "outputs": [],
   "source": []
  }
 ],
 "metadata": {
  "kernelspec": {
   "display_name": "Python 3 (ipykernel)",
   "language": "python",
   "name": "python3"
  },
  "language_info": {
   "codemirror_mode": {
    "name": "ipython",
    "version": 3
   },
   "file_extension": ".py",
   "mimetype": "text/x-python",
   "name": "python",
   "nbconvert_exporter": "python",
   "pygments_lexer": "ipython3",
   "version": "3.9.18"
  }
 },
 "nbformat": 4,
 "nbformat_minor": 5
}
